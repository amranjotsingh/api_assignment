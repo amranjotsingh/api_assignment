{
 "cells": [
  {
   "cell_type": "code",
   "execution_count": 1,
   "id": "e99dfd7f-282d-4b89-bac2-d47f5ecec476",
   "metadata": {},
   "outputs": [],
   "source": [
    "# What is an API? Give an example, where an API is used in real life."
   ]
  },
  {
   "cell_type": "code",
   "execution_count": 2,
   "id": "c69fc401-0aa9-4145-8e11-6661bbefe1db",
   "metadata": {},
   "outputs": [],
   "source": [
    "# An API, or Application Programming Interface, is a set of protocols, routines, and\n",
    "# tools that allow different software applications to communicate with each other. APIs \n",
    "# define the rules and specifications for how one software component should interact with\n",
    "# another, making it easier for developers to integrate different services and functionalities into\n",
    "# their own applications.\n",
    "\n",
    "\n",
    "\n",
    "# example is the Twitter API, which allows developers to integrate Twitter functionalities \n",
    "# into their own applications. Using the Twitter API, developers can retrieve tweets and user\n",
    "# data, post tweets, and manage their Twitter accounts programmatically. This allows developers \n",
    "# to build custom applications that can interact with Twitter data and services, such as social media\n",
    "# monitoring tools and Twitter clients."
   ]
  },
  {
   "cell_type": "code",
   "execution_count": 3,
   "id": "364dfe58-3371-46f0-8c6b-f6bfc711cdee",
   "metadata": {},
   "outputs": [],
   "source": [
    "# Q2. Give advantages and disadvantages of using API."
   ]
  },
  {
   "cell_type": "code",
   "execution_count": 4,
   "id": "a8cd880e-e827-4836-b7a4-68ce046f5880",
   "metadata": {},
   "outputs": [],
   "source": [
    "# APIs have become an essential part of modern software development, providing a standardized way for different \n",
    "# applications and services to communicate with each other. However, like any technology, APIs have their advantages\n",
    "# and disadvantages.\n",
    "\n",
    "# Advantages of using APIs:\n",
    "\n",
    "#     Increased Efficiency: APIs can help improve the efficiency of software development by providing pre-\n",
    "#     built functionalities that can be easily integrated into an application, without having to build these\n",
    "#     functionalities from scratch.\n",
    "\n",
    "#     Standardization: APIs provide a standardized way for different applications and services to communicate \n",
    "#     with each other, making it easier to integrate and maintain different software components.\n",
    "\n",
    "#     Reusability: APIs are reusable components that can be used across multiple applications and services, \n",
    "#     saving developers time and effort in developing similar functionalities.\n",
    "\n",
    "#     Scalability: APIs can be used to build scalable applications that can handle a large number of requests,\n",
    "#     by distributing the workload across multiple servers or services.\n",
    "\n",
    "#     Flexibility: APIs can be customized and configured to meet the specific needs of an application, \n",
    "#     allowing developers to tailor their applications to the requirements of their users.\n",
    "\n",
    "# Disadvantages of using APIs:\n",
    "\n",
    "#     Security Risks: APIs can create potential security risks, especially if they are not properly secured \n",
    "#     or if they are used to access sensitive data.\n",
    "\n",
    "#     Dependence on Third-Party Services: APIs rely on third-party services and providers, which can\n",
    "#     be a potential point of failure if these services are not available or if they are changed or discontinued.\n",
    "\n",
    "#     Compatibility Issues: APIs can be subject to compatibility issues if they are not properly maintained \n",
    "#     or if they are used with different versions of software or hardware.\n",
    "\n",
    "#     Documentation: APIs require proper documentation, which can be time-consuming and expensive to create \n",
    "#     and maintain, especially for complex APIs.\n",
    "\n",
    "#     Cost: Some APIs may have usage or subscription fees, which can add to the overall cost of software development\n",
    "#     and deployment."
   ]
  },
  {
   "cell_type": "code",
   "execution_count": 5,
   "id": "4717be19-789d-4ac5-9021-f3298c3623a4",
   "metadata": {},
   "outputs": [],
   "source": [
    "# What is a Web API? Differentiate between API and Web API."
   ]
  },
  {
   "cell_type": "code",
   "execution_count": 1,
   "id": "d4cc45b1-12d4-4ae8-b1f0-86c7a4e425be",
   "metadata": {},
   "outputs": [],
   "source": [
    "# A Web API, or Web Application Programming Interface, is an API that uses HTTP or HTTPS protocols to \n",
    "# communicate with other software components over the web. Web APIs are typically used to provide access \n",
    "# to web-based services and functionalities, such as social media platforms, cloud storage services, and\n",
    "# e-commerce websites.\n",
    "\n",
    "# The main difference between an API and a Web API is that a Web API uses web-based protocols, such as \n",
    "# HTTP or HTTPS, to communicate with other software components over the internet. APIs, on the other hand,\n",
    "\n",
    "# Another key difference is that Web APIs are typically designed for public consumption and use, \n",
    "# while APIs can be used for both internal and external communication within an organization or software system.\n",
    "\n",
    "# Web APIs often use a REST (Representational State Transfer) architecture, which provides a standardized \n",
    "# way of designing web-based APIs that are simple, scalable, and efficient. RESTful Web APIs use HTTP methods \n",
    "# such as GET, POST, PUT, and DELETE to perform actions on resources, such as data objects or files, and return \n",
    "# responses in standard formats such as JSON or XML.\n",
    "\n",
    "# In summary, while both APIs and Web APIs are used to provide access to software functionalities and services,\n",
    "# Web APIs specifically use web-based protocols and are designed for public consumption over the internet."
   ]
  },
  {
   "cell_type": "code",
   "execution_count": 2,
   "id": "d2b9b2f5-9bc6-4dd3-a724-79cd8795c3e1",
   "metadata": {},
   "outputs": [],
   "source": [
    "# Explain REST and SOAP Architecture. Mention shortcomings of SOAP."
   ]
  },
  {
   "cell_type": "code",
   "execution_count": 3,
   "id": "c68c3467-322a-429d-92dd-5b97b78a523a",
   "metadata": {},
   "outputs": [],
   "source": [
    "# REST is a lightweight architecture that uses HTTP methods like GET, POST, PUT, and DELETE to\n",
    "# create, read, update and delete resources (data) on the web. REST uses a uniform interface, \n",
    "# which means that each resource has a unique identifier (URI), and clients can use HTTP methods \n",
    "# to perform actions on that resource. RESTful web services are known for their simplicity, scalability, \n",
    "# and flexibility.\n",
    "\n",
    "# SOAP, on the other hand, is a more complex architecture that uses XML to encode messages \n",
    "# and relies on other protocols like HTTP, SMTP, and TCP to transport the messages between \n",
    "# applications. SOAP is based on a messaging model where messages are sent between clients \n",
    "# and servers, and the data is tightly coupled with the implementation details of the service. \n",
    "# SOAP services are known for their robustness and security."
   ]
  },
  {
   "cell_type": "code",
   "execution_count": 5,
   "id": "597ed022-ba85-43e4-8c52-3875ab2c58bb",
   "metadata": {},
   "outputs": [],
   "source": [
    "# Q - Differentiate between REST and SOAP."
   ]
  },
  {
   "cell_type": "code",
   "execution_count": null,
   "id": "327fd0ac-bd25-48df-aa2e-f6358b6f7a4e",
   "metadata": {},
   "outputs": [],
   "source": [
    "# REST (Representational State Transfer) and SOAP (Simple Object Access Protocol) are two architectural styles \n",
    "# used for building web services. Here are the main differences between REST and SOAP:\n",
    "\n",
    "#     Communication protocol: REST uses HTTP for communication between client and server, while SOAP \n",
    "#     uses XML over HTTP, SMTP or TCP.\n",
    "\n",
    "#     Data format: REST commonly uses JSON or XML for data transfer, while SOAP exclusively uses XML.\n",
    "\n",
    "#     Ease of use: REST is much easier to use than SOAP. REST's simplicity makes it easier to \n",
    "#     learn and develop applications, while SOAP requires a more complex development process.\n",
    "\n",
    "#     Flexibility: REST services are more flexible than SOAP services. REST services allow clients\n",
    "#     to consume any part of the service at any time, whereas SOAP services require clients to access \n",
    "#     the entire service or a significant part of it.\n",
    "\n",
    "#     Caching: REST supports caching, which can help reduce the number of requests made to a server.\n",
    "#     SOAP, on the other hand, doesn't support caching."
   ]
  }
 ],
 "metadata": {
  "kernelspec": {
   "display_name": "Python 3 (ipykernel)",
   "language": "python",
   "name": "python3"
  },
  "language_info": {
   "codemirror_mode": {
    "name": "ipython",
    "version": 3
   },
   "file_extension": ".py",
   "mimetype": "text/x-python",
   "name": "python",
   "nbconvert_exporter": "python",
   "pygments_lexer": "ipython3",
   "version": "3.10.8"
  }
 },
 "nbformat": 4,
 "nbformat_minor": 5
}
